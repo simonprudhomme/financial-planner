{
 "cells": [
  {
   "cell_type": "code",
   "execution_count": 2,
   "metadata": {},
   "outputs": [],
   "source": [
    "%reload_ext autoreload\n",
    "%autoreload 2"
   ]
  },
  {
   "cell_type": "code",
   "execution_count": 3,
   "metadata": {},
   "outputs": [],
   "source": [
    "from src.amount import Amount\n",
    "from src.assets import Stock\n",
    "from src.assets import RealEstate\n",
    "from src.loan import Loan\n",
    "import logging"
   ]
  },
  {
   "cell_type": "code",
   "execution_count": 4,
   "metadata": {},
   "outputs": [],
   "source": [
    "logging.basicConfig(level=logging.INFO)"
   ]
  },
  {
   "cell_type": "code",
   "execution_count": 7,
   "metadata": {},
   "outputs": [
    {
     "data": {
      "text/plain": [
       "10000.0"
      ]
     },
     "execution_count": 7,
     "metadata": {},
     "output_type": "execute_result"
    }
   ],
   "source": [
    "stock = Stock(name='AAPL', value=10_000, expected_annual_return=7)\n",
    "stock.calculate_future_value('2023-10-13')"
   ]
  },
  {
   "cell_type": "code",
   "execution_count": 8,
   "metadata": {},
   "outputs": [
    {
     "data": {
      "text/plain": [
       "1511.2896479754709"
      ]
     },
     "execution_count": 8,
     "metadata": {},
     "output_type": "execute_result"
    }
   ],
   "source": [
    "stock.sell_stock(percentage=10, date='2029-10-13')"
   ]
  },
  {
   "cell_type": "code",
   "execution_count": 9,
   "metadata": {},
   "outputs": [
    {
     "data": {
      "text/plain": [
       "13601.606831779238"
      ]
     },
     "execution_count": 9,
     "metadata": {},
     "output_type": "execute_result"
    }
   ],
   "source": [
    "stock.value"
   ]
  },
  {
   "cell_type": "code",
   "execution_count": 10,
   "metadata": {},
   "outputs": [],
   "source": [
    "plex = RealEstate(name='plex', \n",
    "                  value=500_000, \n",
    "                  cashdown=100_000, \n",
    "                  expected_annual_return=4, \n",
    "                  loan=Loan(loan_amount=400_000, \n",
    "                       annual_rate=3.5, \n",
    "                       term_in_year=30)\n",
    "                  )"
   ]
  },
  {
   "cell_type": "code",
   "execution_count": 19,
   "metadata": {},
   "outputs": [
    {
     "data": {
      "text/plain": [
       "(1996.178751235294, 2000.0)"
      ]
     },
     "execution_count": 19,
     "metadata": {},
     "output_type": "execute_result"
    }
   ],
   "source": [
    "plex.calculate_total_monthly_expenses(date='2023-11-13'), plex.calculate_total_monthly_incomes(date='2023-11-13')"
   ]
  },
  {
   "cell_type": "code",
   "execution_count": 20,
   "metadata": {},
   "outputs": [
    {
     "name": "stderr",
     "output_type": "stream",
     "text": [
      "WARNING:src.assets:Expense type electricity already exists.\n",
      "INFO:src.assets:Overwriting electricity with <src.amount.Amount object at 0x10f613700>\n",
      "WARNING:src.assets:Expense type insurance already exists.\n",
      "INFO:src.assets:Overwriting insurance with <src.amount.Amount object at 0x10ea7c490>\n",
      "WARNING:src.assets:Income type rent already exists.\n",
      "INFO:src.assets:Overwriting rent with <src.amount.Amount object at 0x10f58b970>\n"
     ]
    },
    {
     "data": {
      "text/plain": [
       "3.82124876470607"
      ]
     },
     "execution_count": 20,
     "metadata": {},
     "output_type": "execute_result"
    }
   ],
   "source": [
    "# Expenses\n",
    "plex.set_monthly_expense(expense_type='electricity', monthly_expense=Amount(100, 3))\n",
    "plex.set_monthly_expense(expense_type='insurance', monthly_expense=Amount(100, 3))\n",
    "\n",
    "# Incomes\n",
    "plex.set_monthly_income(income_type='rent', monthly_income=Amount(2_000, 3))\n",
    "\n",
    "# Cashflow\n",
    "plex.calculate_monthly_cashflow(date='2023-11-13')"
   ]
  },
  {
   "cell_type": "code",
   "execution_count": null,
   "metadata": {},
   "outputs": [],
   "source": []
  }
 ],
 "metadata": {
  "kernelspec": {
   "display_name": "venv",
   "language": "python",
   "name": "python3"
  },
  "language_info": {
   "codemirror_mode": {
    "name": "ipython",
    "version": 3
   },
   "file_extension": ".py",
   "mimetype": "text/x-python",
   "name": "python",
   "nbconvert_exporter": "python",
   "pygments_lexer": "ipython3",
   "version": "3.9.2"
  }
 },
 "nbformat": 4,
 "nbformat_minor": 2
}
