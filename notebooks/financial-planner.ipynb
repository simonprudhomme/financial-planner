{
 "cells": [
  {
   "cell_type": "code",
   "execution_count": 15,
   "metadata": {},
   "outputs": [],
   "source": [
    "import sys\n",
    "from loguru import logger\n",
    "\n",
    "from src.amount import Amount\n",
    "from src.entity import FinancialEntity\n",
    "from src.assets import Stock, RealEstate, BankAccount\n",
    "from src.loan import Loan\n",
    "from src.cashflow import CashFlow\n",
    "from src.balance import Balance\n",
    "from src.budget import Income, Expense\n",
    "from src.simulation import Simulation"
   ]
  },
  {
   "cell_type": "code",
   "execution_count": 16,
   "metadata": {},
   "outputs": [
    {
     "data": {
      "text/plain": [
       "3"
      ]
     },
     "execution_count": 16,
     "metadata": {},
     "output_type": "execute_result"
    }
   ],
   "source": [
    "logger.remove()\n",
    "logger.add(\n",
    "    sink=sys.stderr, \n",
    "    format=\"<green>{message}</green>\"\n",
    ")"
   ]
  },
  {
   "cell_type": "code",
   "execution_count": 17,
   "metadata": {},
   "outputs": [],
   "source": [
    "%reload_ext autoreload\n",
    "%autoreload 2"
   ]
  },
  {
   "cell_type": "markdown",
   "metadata": {},
   "source": [
    "#### RealEstate"
   ]
  },
  {
   "cell_type": "code",
   "execution_count": 31,
   "metadata": {},
   "outputs": [
    {
     "name": "stdout",
     "output_type": "stream",
     "text": [
      "2023-11-14\n"
     ]
    }
   ],
   "source": [
    "house = RealEstate(name='house', value=2000, cashdown=200, expected_annual_return=2, loan=Loan('house', 1800, 2, 20))"
   ]
  },
  {
   "cell_type": "code",
   "execution_count": 33,
   "metadata": {},
   "outputs": [
    {
     "data": {
      "text/plain": [
       "8259.003660442153"
      ]
     },
     "execution_count": 33,
     "metadata": {},
     "output_type": "execute_result"
    }
   ],
   "source": [
    "house.calculate_equity('2104-10-10')"
   ]
  },
  {
   "cell_type": "code",
   "execution_count": 34,
   "metadata": {},
   "outputs": [
    {
     "data": {
      "text/plain": [
       "{'name': 'house',\n",
       " 'start_date': '2023-11-14',\n",
       " 'end_date': '2999-12-31',\n",
       " 'expected_monthly_return': 0.0016666666666666668,\n",
       " 'value': 2000,\n",
       " 'cashdown': 200,\n",
       " 'loan': typing.Optional[src.loan.Loan],\n",
       " 'monthly_expenses': {'loan': <src.loan.Loan at 0x12678c940>},\n",
       " 'monthly_incomes': {}}"
      ]
     },
     "execution_count": 34,
     "metadata": {},
     "output_type": "execute_result"
    }
   ],
   "source": [
    "house.__dict__"
   ]
  },
  {
   "cell_type": "code",
   "execution_count": null,
   "metadata": {},
   "outputs": [],
   "source": [
    "#TODO: keep improving assets classe and balances."
   ]
  },
  {
   "cell_type": "code",
   "execution_count": null,
   "metadata": {},
   "outputs": [],
   "source": []
  },
  {
   "cell_type": "code",
   "execution_count": null,
   "metadata": {},
   "outputs": [],
   "source": []
  },
  {
   "cell_type": "markdown",
   "metadata": {},
   "source": [
    "#### Cashflow"
   ]
  },
  {
   "cell_type": "code",
   "execution_count": 4,
   "metadata": {},
   "outputs": [],
   "source": [
    "cashflow = CashFlow()\n",
    "\n",
    "# Income\n",
    "cashflow.add_entity(Income('Salary_Lolo', Amount(5000, 7)))\n",
    "cashflow.add_entity(Income('Salary_Simon', Amount(5000, 7)))\n",
    "\n",
    "# Expenses\n",
    "cashflow.add_entity(Expense('Transportation', Amount(300, 2)))\n",
    "cashflow.add_entity(Expense('Rent', Amount(1200, 2)))\n",
    "cashflow.add_entity(Expense('Travelling', Amount(1200, 2)))\n",
    "cashflow.add_entity(Expense('Food', Amount(400, 2)))\n",
    "cashflow.add_entity(Expense('Activity', Amount(400, 2)))"
   ]
  },
  {
   "cell_type": "code",
   "execution_count": 5,
   "metadata": {},
   "outputs": [
    {
     "data": {
      "text/plain": [
       "({'Salary_Lolo': <src.budget.Income at 0x117cae040>,\n",
       "  'Salary_Simon': <src.budget.Income at 0x117c82b80>},\n",
       " {'Transportation': <src.budget.Expense at 0x117c82ac0>,\n",
       "  'Rent': <src.budget.Expense at 0x117c82e80>,\n",
       "  'Travelling': <src.budget.Expense at 0x117c82c10>,\n",
       "  'Food': <src.budget.Expense at 0x11178b1c0>,\n",
       "  'Activity': <src.budget.Expense at 0x1117b2fd0>})"
      ]
     },
     "execution_count": 5,
     "metadata": {},
     "output_type": "execute_result"
    }
   ],
   "source": [
    "cashflow.inflows, cashflow.outflows"
   ]
  },
  {
   "cell_type": "code",
   "execution_count": 6,
   "metadata": {},
   "outputs": [
    {
     "data": {
      "text/plain": [
       "7040.113692989629"
      ]
     },
     "execution_count": 6,
     "metadata": {},
     "output_type": "execute_result"
    }
   ],
   "source": [
    "cashflow.calculate_monthly_cash_flow('2024-10-10')"
   ]
  },
  {
   "cell_type": "markdown",
   "metadata": {},
   "source": [
    "#### Simulation"
   ]
  },
  {
   "cell_type": "code",
   "execution_count": 7,
   "metadata": {},
   "outputs": [],
   "source": [
    "simulation = Simulation(start_date='2024-11-01', duration=12, cashflow=cashflow)"
   ]
  },
  {
   "cell_type": "code",
   "execution_count": 8,
   "metadata": {},
   "outputs": [
    {
     "name": "stderr",
     "output_type": "stream",
     "text": [
      "\u001b[32m2024-11-01 cashflow $ 7096.01\u001b[0m\n",
      "\u001b[32m2024-12-01 cashflow $ 7152.26\u001b[0m\n",
      "\u001b[32m2025-01-01 cashflow $ 7208.85\u001b[0m\n",
      "\u001b[32m2025-02-01 cashflow $ 7265.81\u001b[0m\n",
      "\u001b[32m2025-03-01 cashflow $ 7323.12\u001b[0m\n",
      "\u001b[32m2025-04-01 cashflow $ 7380.79\u001b[0m\n",
      "\u001b[32m2025-05-01 cashflow $ 7438.82\u001b[0m\n",
      "\u001b[32m2025-06-01 cashflow $ 7497.22\u001b[0m\n",
      "\u001b[32m2025-07-01 cashflow $ 7555.98\u001b[0m\n",
      "\u001b[32m2025-08-01 cashflow $ 7615.11\u001b[0m\n",
      "\u001b[32m2025-09-01 cashflow $ 7674.61\u001b[0m\n",
      "\u001b[32m2025-10-01 cashflow $ 7734.48\u001b[0m\n"
     ]
    }
   ],
   "source": [
    "simulation.run()"
   ]
  },
  {
   "cell_type": "code",
   "execution_count": 14,
   "metadata": {},
   "outputs": [
    {
     "data": {
      "text/html": [
       "<div>\n",
       "<style scoped>\n",
       "    .dataframe tbody tr th:only-of-type {\n",
       "        vertical-align: middle;\n",
       "    }\n",
       "\n",
       "    .dataframe tbody tr th {\n",
       "        vertical-align: top;\n",
       "    }\n",
       "\n",
       "    .dataframe thead th {\n",
       "        text-align: right;\n",
       "    }\n",
       "</style>\n",
       "<table border=\"1\" class=\"dataframe\">\n",
       "  <thead>\n",
       "    <tr style=\"text-align: right;\">\n",
       "      <th></th>\n",
       "      <th>cashflow</th>\n",
       "    </tr>\n",
       "  </thead>\n",
       "  <tbody>\n",
       "    <tr>\n",
       "      <th>2024-11-01</th>\n",
       "      <td>7096.009243</td>\n",
       "    </tr>\n",
       "    <tr>\n",
       "      <th>2024-12-01</th>\n",
       "      <td>7152.255564</td>\n",
       "    </tr>\n",
       "    <tr>\n",
       "      <th>2025-01-01</th>\n",
       "      <td>7208.854743</td>\n",
       "    </tr>\n",
       "    <tr>\n",
       "      <th>2025-02-01</th>\n",
       "      <td>7265.808880</td>\n",
       "    </tr>\n",
       "    <tr>\n",
       "      <th>2025-03-01</th>\n",
       "      <td>7323.120088</td>\n",
       "    </tr>\n",
       "    <tr>\n",
       "      <th>2025-04-01</th>\n",
       "      <td>7380.790489</td>\n",
       "    </tr>\n",
       "    <tr>\n",
       "      <th>2025-05-01</th>\n",
       "      <td>7438.822222</td>\n",
       "    </tr>\n",
       "    <tr>\n",
       "      <th>2025-06-01</th>\n",
       "      <td>7497.217434</td>\n",
       "    </tr>\n",
       "    <tr>\n",
       "      <th>2025-07-01</th>\n",
       "      <td>7555.978290</td>\n",
       "    </tr>\n",
       "    <tr>\n",
       "      <th>2025-08-01</th>\n",
       "      <td>7615.106961</td>\n",
       "    </tr>\n",
       "    <tr>\n",
       "      <th>2025-09-01</th>\n",
       "      <td>7674.605637</td>\n",
       "    </tr>\n",
       "    <tr>\n",
       "      <th>2025-10-01</th>\n",
       "      <td>7734.476518</td>\n",
       "    </tr>\n",
       "  </tbody>\n",
       "</table>\n",
       "</div>"
      ],
      "text/plain": [
       "               cashflow\n",
       "2024-11-01  7096.009243\n",
       "2024-12-01  7152.255564\n",
       "2025-01-01  7208.854743\n",
       "2025-02-01  7265.808880\n",
       "2025-03-01  7323.120088\n",
       "2025-04-01  7380.790489\n",
       "2025-05-01  7438.822222\n",
       "2025-06-01  7497.217434\n",
       "2025-07-01  7555.978290\n",
       "2025-08-01  7615.106961\n",
       "2025-09-01  7674.605637\n",
       "2025-10-01  7734.476518"
      ]
     },
     "execution_count": 14,
     "metadata": {},
     "output_type": "execute_result"
    },
    {
     "data": {
      "image/png": "[encoded data removed]",
      "text/plain": [
       "<Figure size 640x480 with 1 Axes>"
      ]
     },
     "metadata": {},
     "output_type": "display_data"
    }
   ],
   "source": [
    "simulation.plot()"
   ]
  },
  {
   "cell_type": "code",
   "execution_count": 26,
   "metadata": {},
   "outputs": [],
   "source": [
    "import glob\n",
    "\n",
    "files = glob.glob('src/*.py')"
   ]
  },
  {
   "cell_type": "code",
   "execution_count": 27,
   "metadata": {},
   "outputs": [],
   "source": [
    "# read file and concatenate the text\n",
    "text = ''\n",
    "\n",
    "for file in files:\n",
    "    text += f'#### File Path: {file}\\n ###'\n",
    "    with open(file, 'r') as f:\n",
    "        text += f.read() + '\\n\\n'\n",
    "\n",
    "with open('Application.md', 'w') as f:\n",
    "    f.write(text)"
   ]
  },
  {
   "cell_type": "code",
   "execution_count": null,
   "metadata": {},
   "outputs": [],
   "source": []
  }
 ],
 "metadata": {
  "kernelspec": {
   "display_name": "venv",
   "language": "python",
   "name": "python3"
  },
  "language_info": {
   "codemirror_mode": {
    "name": "ipython",
    "version": 3
   },
   "file_extension": ".py",
   "mimetype": "text/x-python",
   "name": "python",
   "nbconvert_exporter": "python",
   "pygments_lexer": "ipython3",
   "version": "3.9.2"
  }
 },
 "nbformat": 4,
 "nbformat_minor": 2
}
