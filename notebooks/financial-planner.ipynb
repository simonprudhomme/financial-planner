{
 "cells": [
  {
   "cell_type": "code",
   "execution_count": 192,
   "metadata": {},
   "outputs": [],
   "source": [
    "import sys\n",
    "from loguru import logger\n",
    "\n",
    "from src.entity import Entity, EntityFactory, Loan, BankAccount, Stock, RealEstate\n",
    "from src.cashflow import CashFlow\n",
    "from src.balance import Balance\n",
    "from src.simulation import Simulation"
   ]
  },
  {
   "cell_type": "code",
   "execution_count": 193,
   "metadata": {},
   "outputs": [],
   "source": [
    "%reload_ext autoreload\n",
    "%autoreload 2"
   ]
  },
  {
   "cell_type": "code",
   "execution_count": 212,
   "metadata": {},
   "outputs": [],
   "source": [
    "# Entities\n",
    "bank_account = BankAccount(name='Bank Account', \n",
    "                           amount=250_000, \n",
    "                           annual_inflation_rate=0, \n",
    "                           start_date='2023-09-01')\n",
    "\n",
    "triplex = RealEstate(name='Triplex',\n",
    "                     amount=500_000, \n",
    "                     cashdown=200_000, \n",
    "                     annual_expected_return=5,\n",
    "                     acquisition_costs=[\n",
    "                         Entity(name='Inspection', amount=-1200, end_date='2023-12-01'),\n",
    "                         Entity(name='Notary', amount=-1200, end_date='2023-12-01'),\n",
    "                         Entity(name='Moving', amount=-1200, end_date='2023-12-01'),\n",
    "                         Entity(name='Welcome Taxe', amount=-12_000, end_date='2023-12-01'),\n",
    "                         Entity(name='Renovations', amount=-12_000, end_date='2023-12-01'),\n",
    "                         Entity(name='Cashdown', amount=-200_000, end_date='2023-12-01'),\n",
    "                     ],\n",
    "                     loan=Loan(\n",
    "                         name='Triplex Loan', \n",
    "                         amount=300_000, \n",
    "                         annual_interest_rate=3, \n",
    "                         term_in_year=25, \n",
    "                         annual_inflation_rate=0,\n",
    "                         start_date='2023-12-01'),\n",
    "                     start_date='2023-12-01'\n",
    "                     )"
   ]
  },
  {
   "cell_type": "code",
   "execution_count": 213,
   "metadata": {},
   "outputs": [],
   "source": [
    "# Budget\n",
    "\n",
    "# Income\n",
    "salary = Entity(name='Salary', amount=10_000, annual_inflation_rate=4, start_date='2023-10-01')\n",
    "\n",
    "# Expenses\n",
    "rent = Entity(name='Rent', amount=-1200, annual_inflation_rate=4, start_date='2023-10-01')\n",
    "food = Entity(name='Food', amount=-500, annual_inflation_rate=4, start_date='2023-10-01')\n",
    "transport = Entity(name='Transport', amount=-200, annual_inflation_rate=4, start_date='2023-10-01')\n",
    "entertainment = Entity(name='Entertainment', amount=-300, annual_inflation_rate=4, start_date='2023-10-01')\n",
    "\n",
    "entities = [salary, rent, food, transport, entertainment, bank_account, triplex]"
   ]
  },
  {
   "cell_type": "code",
   "execution_count": 214,
   "metadata": {},
   "outputs": [],
   "source": [
    "# Cashflow\n",
    "cashflow = CashFlow()"
   ]
  },
  {
   "cell_type": "code",
   "execution_count": 215,
   "metadata": {},
   "outputs": [
    {
     "data": {
      "text/plain": [
       "{'Salary': <src.entity.Entity at 0x1276cc8e0>,\n",
       " 'Rent': <src.entity.Entity at 0x1276cc160>,\n",
       " 'Food': <src.entity.Entity at 0x1276cc910>,\n",
       " 'Transport': <src.entity.Entity at 0x1276cc340>,\n",
       " 'Entertainment': <src.entity.Entity at 0x1276cc9a0>,\n",
       " 'Bank Account': <src.entity.BankAccount at 0x1276d6b50>,\n",
       " 'Triplex': <src.entity.RealEstate at 0x1276d6850>}"
      ]
     },
     "execution_count": 215,
     "metadata": {},
     "output_type": "execute_result"
    }
   ],
   "source": [
    "for entity in entities:\n",
    "    cashflow.add_entity(entity)\n",
    "    \n",
    "cashflow.entities"
   ]
  },
  {
   "cell_type": "code",
   "execution_count": 216,
   "metadata": {},
   "outputs": [
    {
     "data": {
      "text/plain": [
       "6455.626347315852"
      ]
     },
     "execution_count": 216,
     "metadata": {},
     "output_type": "execute_result"
    }
   ],
   "source": [
    "cashflow.calculate_monthly_cash_flow('2024-01-01')"
   ]
  },
  {
   "cell_type": "code",
   "execution_count": 217,
   "metadata": {},
   "outputs": [
    {
     "data": {
      "text/plain": [
       "250000"
      ]
     },
     "execution_count": 217,
     "metadata": {},
     "output_type": "execute_result"
    }
   ],
   "source": [
    "bank_account.amount"
   ]
  },
  {
   "cell_type": "code",
   "execution_count": 218,
   "metadata": {},
   "outputs": [
    {
     "name": "stdout",
     "output_type": "stream",
     "text": [
      "-11\n"
     ]
    },
    {
     "data": {
      "text/plain": [
       "249989"
      ]
     },
     "execution_count": 218,
     "metadata": {},
     "output_type": "execute_result"
    }
   ],
   "source": [
    "bank_account.update(start_date='2023-12-01', amount=-11)\n",
    "bank_account.amount"
   ]
  },
  {
   "cell_type": "code",
   "execution_count": 219,
   "metadata": {},
   "outputs": [
    {
     "data": {
      "text/plain": [
       "6534.671850668457"
      ]
     },
     "execution_count": 219,
     "metadata": {},
     "output_type": "execute_result"
    }
   ],
   "source": [
    "cashflow.calculate_monthly_cash_flow('2024-04-01')"
   ]
  },
  {
   "cell_type": "code",
   "execution_count": 220,
   "metadata": {},
   "outputs": [],
   "source": [
    "# Balance\n",
    "balance = Balance()\n",
    "\n",
    "for entity in entities:\n",
    "    balance.add_entity(entity)"
   ]
  },
  {
   "cell_type": "code",
   "execution_count": 221,
   "metadata": {},
   "outputs": [
    {
     "data": {
      "text/plain": [
       "{'Salary': <src.entity.Entity at 0x1276cc8e0>,\n",
       " 'Rent': <src.entity.Entity at 0x1276cc160>,\n",
       " 'Food': <src.entity.Entity at 0x1276cc910>,\n",
       " 'Transport': <src.entity.Entity at 0x1276cc340>,\n",
       " 'Entertainment': <src.entity.Entity at 0x1276cc9a0>,\n",
       " 'Bank Account': <src.entity.BankAccount at 0x1276d6b50>,\n",
       " 'Triplex': <src.entity.RealEstate at 0x1276d6850>}"
      ]
     },
     "execution_count": 221,
     "metadata": {},
     "output_type": "execute_result"
    }
   ],
   "source": [
    "balance.entities"
   ]
  },
  {
   "cell_type": "code",
   "execution_count": 222,
   "metadata": {},
   "outputs": [],
   "source": [
    "simulation = Simulation(start_date='2023-11-01', duration=12, cashflow=cashflow, balance=balance)"
   ]
  },
  {
   "cell_type": "code",
   "execution_count": 223,
   "metadata": {},
   "outputs": [
    {
     "name": "stdout",
     "output_type": "stream",
     "text": [
      "2023-11-01\n",
      "7826.000000000001\n",
      "249989\n",
      "7826.000000000001\n",
      "2023-12-01\n",
      "-221170.54727490636\n",
      "7826.000000000001\n",
      "-221170.54727490636\n",
      "2024-01-01\n",
      "6455.626347315852\n",
      "-213344.54727490636\n",
      "6455.626347315852\n",
      "2024-02-01\n",
      "6481.88721494548\n",
      "-206888.92092759052\n",
      "6481.88721494548\n",
      "2024-03-01\n",
      "6508.235618800543\n",
      "-200407.03371264503\n",
      "6508.235618800543\n",
      "2024-04-01\n",
      "6534.671850668457\n",
      "-193898.7980938445\n",
      "6534.671850668457\n",
      "2024-05-01\n",
      "6561.196203309262\n",
      "-187364.12624317603\n",
      "6561.196203309262\n",
      "2024-06-01\n",
      "6587.808970458869\n",
      "-180802.93003986677\n",
      "6587.808970458869\n",
      "2024-07-01\n",
      "6614.510446832308\n",
      "-174215.1210694079\n",
      "6614.510446832308\n",
      "2024-08-01\n",
      "6641.300928126995\n",
      "-167600.6106225756\n",
      "6641.300928126995\n",
      "2024-09-01\n",
      "6668.180711025998\n",
      "-160959.3096944486\n",
      "6668.180711025998\n",
      "2024-10-01\n",
      "6695.15009320133\n",
      "-154291.1289834226\n",
      "6695.15009320133\n"
     ]
    }
   ],
   "source": [
    "simulation.run()"
   ]
  },
  {
   "cell_type": "code",
   "execution_count": 224,
   "metadata": {},
   "outputs": [
    {
     "data": {
      "text/html": [
       "<div>\n",
       "<style scoped>\n",
       "    .dataframe tbody tr th:only-of-type {\n",
       "        vertical-align: middle;\n",
       "    }\n",
       "\n",
       "    .dataframe tbody tr th {\n",
       "        vertical-align: top;\n",
       "    }\n",
       "\n",
       "    .dataframe thead th {\n",
       "        text-align: right;\n",
       "    }\n",
       "</style>\n",
       "<table border=\"1\" class=\"dataframe\">\n",
       "  <thead>\n",
       "    <tr style=\"text-align: right;\">\n",
       "      <th></th>\n",
       "      <th>cashflow</th>\n",
       "      <th>net_worth</th>\n",
       "    </tr>\n",
       "  </thead>\n",
       "  <tbody>\n",
       "    <tr>\n",
       "      <th>2023-11-01</th>\n",
       "      <td>7826.000000</td>\n",
       "      <td>7826.000000</td>\n",
       "    </tr>\n",
       "    <tr>\n",
       "      <th>2023-12-01</th>\n",
       "      <td>-221170.547275</td>\n",
       "      <td>-5492.460608</td>\n",
       "    </tr>\n",
       "    <tr>\n",
       "      <th>2024-01-01</th>\n",
       "      <td>6455.626347</td>\n",
       "      <td>3745.306636</td>\n",
       "    </tr>\n",
       "    <tr>\n",
       "      <th>2024-02-01</th>\n",
       "      <td>6481.887215</td>\n",
       "      <td>13019.784134</td>\n",
       "    </tr>\n",
       "    <tr>\n",
       "      <th>2024-03-01</th>\n",
       "      <td>6508.235619</td>\n",
       "      <td>22331.100085</td>\n",
       "    </tr>\n",
       "    <tr>\n",
       "      <th>2024-04-01</th>\n",
       "      <td>6534.671851</td>\n",
       "      <td>31679.383144</td>\n",
       "    </tr>\n",
       "    <tr>\n",
       "      <th>2024-05-01</th>\n",
       "      <td>6561.196203</td>\n",
       "      <td>41064.762420</td>\n",
       "    </tr>\n",
       "    <tr>\n",
       "      <th>2024-06-01</th>\n",
       "      <td>6587.808970</td>\n",
       "      <td>50487.367479</td>\n",
       "    </tr>\n",
       "    <tr>\n",
       "      <th>2024-07-01</th>\n",
       "      <td>6614.510447</td>\n",
       "      <td>59947.328348</td>\n",
       "    </tr>\n",
       "    <tr>\n",
       "      <th>2024-08-01</th>\n",
       "      <td>6641.300928</td>\n",
       "      <td>69444.775513</td>\n",
       "    </tr>\n",
       "    <tr>\n",
       "      <th>2024-09-01</th>\n",
       "      <td>6668.180711</td>\n",
       "      <td>78979.839921</td>\n",
       "    </tr>\n",
       "    <tr>\n",
       "      <th>2024-10-01</th>\n",
       "      <td>6695.150093</td>\n",
       "      <td>88552.652986</td>\n",
       "    </tr>\n",
       "  </tbody>\n",
       "</table>\n",
       "</div>"
      ],
      "text/plain": [
       "                 cashflow     net_worth\n",
       "2023-11-01    7826.000000   7826.000000\n",
       "2023-12-01 -221170.547275  -5492.460608\n",
       "2024-01-01    6455.626347   3745.306636\n",
       "2024-02-01    6481.887215  13019.784134\n",
       "2024-03-01    6508.235619  22331.100085\n",
       "2024-04-01    6534.671851  31679.383144\n",
       "2024-05-01    6561.196203  41064.762420\n",
       "2024-06-01    6587.808970  50487.367479\n",
       "2024-07-01    6614.510447  59947.328348\n",
       "2024-08-01    6641.300928  69444.775513\n",
       "2024-09-01    6668.180711  78979.839921\n",
       "2024-10-01    6695.150093  88552.652986"
      ]
     },
     "execution_count": 224,
     "metadata": {},
     "output_type": "execute_result"
    },
    {
     "data": {
      "image/png": "[encoded data removed]",
      "text/plain": [
       "<Figure size 640x480 with 1 Axes>"
      ]
     },
     "metadata": {},
     "output_type": "display_data"
    }
   ],
   "source": [
    "simulation.plot()"
   ]
  },
  {
   "cell_type": "code",
   "execution_count": null,
   "metadata": {},
   "outputs": [],
   "source": []
  },
  {
   "cell_type": "code",
   "execution_count": null,
   "metadata": {},
   "outputs": [],
   "source": []
  },
  {
   "cell_type": "code",
   "execution_count": null,
   "metadata": {},
   "outputs": [],
   "source": []
  },
  {
   "cell_type": "code",
   "execution_count": null,
   "metadata": {},
   "outputs": [],
   "source": []
  },
  {
   "cell_type": "code",
   "execution_count": null,
   "metadata": {},
   "outputs": [],
   "source": []
  },
  {
   "cell_type": "code",
   "execution_count": null,
   "metadata": {},
   "outputs": [],
   "source": []
  },
  {
   "cell_type": "code",
   "execution_count": null,
   "metadata": {},
   "outputs": [],
   "source": []
  }
 ],
 "metadata": {
  "kernelspec": {
   "display_name": "venv",
   "language": "python",
   "name": "python3"
  },
  "language_info": {
   "codemirror_mode": {
    "name": "ipython",
    "version": 3
   },
   "file_extension": ".py",
   "mimetype": "text/x-python",
   "name": "python",
   "nbconvert_exporter": "python",
   "pygments_lexer": "ipython3",
   "version": "3.9.2"
  }
 },
 "nbformat": 4,
 "nbformat_minor": 2
}
