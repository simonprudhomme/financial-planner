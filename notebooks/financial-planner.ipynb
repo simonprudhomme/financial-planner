{
 "cells": [
  {
   "cell_type": "code",
   "execution_count": 31,
   "metadata": {},
   "outputs": [],
   "source": [
    "import sys\n",
    "from loguru import logger\n",
    "\n",
    "from src.entity import Entity\n",
    "from src.events import Event\n",
    "from src.assets import BankAccount, Stock, RealEstate\n",
    "from src.loan import Loan\n",
    "from src.cashflow import CashFlow\n",
    "from src.balance import Balance\n",
    "from src.simulation import Simulation"
   ]
  },
  {
   "cell_type": "code",
   "execution_count": 32,
   "metadata": {},
   "outputs": [],
   "source": [
    "%reload_ext autoreload\n",
    "%autoreload 2"
   ]
  },
  {
   "cell_type": "code",
   "execution_count": 33,
   "metadata": {},
   "outputs": [],
   "source": [
    "# Assets\n",
    "bank_account = BankAccount(name='Bank Account', amount=10_000, annual_inflation_rate=0)\n",
    "stock = Stock(name='Stocks', amount=450_000, annual_expected_return=7)"
   ]
  },
  {
   "cell_type": "code",
   "execution_count": 34,
   "metadata": {},
   "outputs": [],
   "source": [
    "# Liabilities\n",
    "triplex = RealEstate(name='Triplex', \n",
    "                     amount=500_000, \n",
    "                     cashdown=200_000, \n",
    "                     annual_expected_return=0.05, \n",
    "                     loan=Loan(name='Triplex Loan', principal=300_000, annual_interest_rate=0.03, term_in_year=25, annual_inflation_rate=0))"
   ]
  },
  {
   "cell_type": "code",
   "execution_count": 35,
   "metadata": {},
   "outputs": [],
   "source": [
    "# Budget\n",
    "\n",
    "# Income\n",
    "salary = Entity(name='Salary', amount=10_000, annual_inflation_rate=4)\n",
    "\n",
    "# Expenses\n",
    "rent = Entity(name='Rent', amount=-1200, annual_inflation_rate=4)\n",
    "food = Entity(name='Food', amount=-500, annual_inflation_rate=4)\n",
    "transport = Entity(name='Transport', amount=-200, annual_inflation_rate=4)\n",
    "entertainment = Entity(name='Entertainment', amount=-300, annual_inflation_rate=4)\n",
    "\n",
    "entities = [salary, rent, food, transport, entertainment, bank_account, stock, triplex]"
   ]
  },
  {
   "cell_type": "code",
   "execution_count": 36,
   "metadata": {},
   "outputs": [],
   "source": [
    "# Cashflow\n",
    "cashflow = CashFlow()"
   ]
  },
  {
   "cell_type": "code",
   "execution_count": 37,
   "metadata": {},
   "outputs": [],
   "source": [
    "for entity in entities:\n",
    "    cashflow.add_entity(entity)"
   ]
  },
  {
   "cell_type": "code",
   "execution_count": 38,
   "metadata": {},
   "outputs": [
    {
     "data": {
      "text/plain": [
       "6796.23281261275"
      ]
     },
     "execution_count": 38,
     "metadata": {},
     "output_type": "execute_result"
    }
   ],
   "source": [
    "cashflow.calculate_monthly_cash_flow('2023-12-01')"
   ]
  },
  {
   "cell_type": "code",
   "execution_count": 39,
   "metadata": {},
   "outputs": [
    {
     "data": {
      "text/plain": [
       "({'Salary': <src.entity.Entity at 0x119a81910>,\n",
       "  'Bank Account': <src.assets.BankAccount at 0x119a165b0>,\n",
       "  'Stocks': <src.assets.Stock at 0x119a16af0>},\n",
       " {'Rent': <src.entity.Entity at 0x119a81970>,\n",
       "  'Food': <src.entity.Entity at 0x119a813d0>,\n",
       "  'Transport': <src.entity.Entity at 0x119a81940>,\n",
       "  'Entertainment': <src.entity.Entity at 0x119a810d0>,\n",
       "  'Triplex': <src.assets.RealEstate at 0x1199f3340>})"
      ]
     },
     "execution_count": 39,
     "metadata": {},
     "output_type": "execute_result"
    }
   ],
   "source": [
    "cashflow.inflows, cashflow.outflows"
   ]
  },
  {
   "cell_type": "code",
   "execution_count": 40,
   "metadata": {},
   "outputs": [],
   "source": [
    "# Balance\n",
    "balance = Balance()"
   ]
  },
  {
   "cell_type": "code",
   "execution_count": 41,
   "metadata": {},
   "outputs": [],
   "source": [
    "for entity in entities:\n",
    "    balance.add_entity(entity)"
   ]
  },
  {
   "cell_type": "code",
   "execution_count": 49,
   "metadata": {},
   "outputs": [
    {
     "data": {
      "text/plain": [
       "1623534.5233733412"
      ]
     },
     "execution_count": 49,
     "metadata": {},
     "output_type": "execute_result"
    }
   ],
   "source": [
    "balance.calculate_net_worth('2045-11-15')"
   ]
  },
  {
   "cell_type": "code",
   "execution_count": 43,
   "metadata": {},
   "outputs": [
    {
     "data": {
      "text/plain": [
       "10407.415429197907"
      ]
     },
     "execution_count": 43,
     "metadata": {},
     "output_type": "execute_result"
    }
   ],
   "source": [
    "balance.assets['Stocks'].calculate_future_value('2024-11-15')\n",
    "balance.assets['Bank Account'].calculate_future_value('2024-11-15')\n",
    "balance.assets['Salary'].calculate_future_value('2024-11-15')"
   ]
  },
  {
   "cell_type": "code",
   "execution_count": 45,
   "metadata": {},
   "outputs": [
    {
     "data": {
      "text/plain": [
       "500250.0572996249"
      ]
     },
     "execution_count": 45,
     "metadata": {},
     "output_type": "execute_result"
    }
   ],
   "source": [
    "balance.liabilities['Triplex'].calculate_future_value('2024-11-15')"
   ]
  },
  {
   "cell_type": "code",
   "execution_count": 50,
   "metadata": {},
   "outputs": [
    {
     "data": {
      "text/plain": [
       "<src.balance.Balance at 0x119a81ca0>"
      ]
     },
     "execution_count": 50,
     "metadata": {},
     "output_type": "execute_result"
    }
   ],
   "source": [
    "balance"
   ]
  },
  {
   "cell_type": "code",
   "execution_count": null,
   "metadata": {},
   "outputs": [],
   "source": []
  }
 ],
 "metadata": {
  "kernelspec": {
   "display_name": "venv",
   "language": "python",
   "name": "python3"
  },
  "language_info": {
   "codemirror_mode": {
    "name": "ipython",
    "version": 3
   },
   "file_extension": ".py",
   "mimetype": "text/x-python",
   "name": "python",
   "nbconvert_exporter": "python",
   "pygments_lexer": "ipython3",
   "version": "3.9.2"
  }
 },
 "nbformat": 4,
 "nbformat_minor": 2
}
